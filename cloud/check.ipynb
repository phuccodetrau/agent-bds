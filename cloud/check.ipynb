{
 "cells": [
  {
   "cell_type": "code",
   "execution_count": 1,
   "metadata": {},
   "outputs": [],
   "source": [
    "from google.cloud import storage\n",
    "from dotenv import load_dotenv\n",
    "import os\n",
    "load_dotenv()\n",
    "GCS_CREDENTIALS_PATH = os.getenv('GCS_CREDENTIALS_PATH')\n",
    "storage_client = storage.Client.from_service_account_json(GCS_CREDENTIALS_PATH)"
   ]
  },
  {
   "cell_type": "code",
   "execution_count": 5,
   "metadata": {},
   "outputs": [
    {
     "name": "stdout",
     "output_type": "stream",
     "text": [
      "Tải file nharieng_batch/nharieng_batch.jsonl về data/nharieng_batch.jsonl thành công!\n"
     ]
    }
   ],
   "source": [
    "bucket_name = \"real_estate_data_datn_20242\"  # Thay bằng tên bucket của bạn\n",
    "source_blob_name = \"nharieng_batch/nharieng_batch.jsonl\"\n",
    "destination_file_name = \"data/nharieng_batch.jsonl\"\n",
    "\n",
    "# Lấy bucket và blob (tệp tin)\n",
    "bucket = storage_client.bucket(bucket_name)\n",
    "blob = bucket.blob(source_blob_name)\n",
    "\n",
    "# Tải file về thư mục cục bộ\n",
    "blob.download_to_filename(destination_file_name)\n",
    "\n",
    "print(f\"Tải file {source_blob_name} về {destination_file_name} thành công!\")"
   ]
  },
  {
   "cell_type": "code",
   "execution_count": 38,
   "metadata": {},
   "outputs": [],
   "source": [
    "import json\n",
    "data_chungcu = []\n",
    "with open(\"data/chungcu_batch.jsonl\", \"r\", encoding=\"utf-8\") as f:\n",
    "    for line in f:\n",
    "        data_chungcu.append(json.loads(line)) "
   ]
  },
  {
   "cell_type": "code",
   "execution_count": 39,
   "metadata": {},
   "outputs": [
    {
     "data": {
      "text/plain": [
       "14622"
      ]
     },
     "execution_count": 39,
     "metadata": {},
     "output_type": "execute_result"
    }
   ],
   "source": [
    "len(data_chungcu)"
   ]
  },
  {
   "cell_type": "code",
   "execution_count": 8,
   "metadata": {},
   "outputs": [],
   "source": [
    "import json\n",
    "data_nharieng = []\n",
    "with open(\"data/nharieng_batch.jsonl\", \"r\", encoding=\"utf-8\") as f:\n",
    "    for line in f:\n",
    "        data_nharieng.append(json.loads(line)) "
   ]
  },
  {
   "cell_type": "code",
   "execution_count": 9,
   "metadata": {},
   "outputs": [
    {
     "data": {
      "text/plain": [
       "32199"
      ]
     },
     "execution_count": 9,
     "metadata": {},
     "output_type": "execute_result"
    }
   ],
   "source": [
    "len(data_nharieng)"
   ]
  },
  {
   "cell_type": "code",
   "execution_count": 12,
   "metadata": {},
   "outputs": [
    {
     "data": {
      "text/plain": [
       "{'title': 'Bán gấp nhà ngõ Trung Phụng , ở ngay , dt 30 mx4t , mt 3.3 , chỉ 3.2 tỷ',\n",
       " 'description': 'Bán gấp nhà ngõ Trung Phụng , Đống Đa . Diện tích : 30M2 x 4T Mặt tiền : 3.3 M Nhà đẹp Trung Phụng - gần phố - ngõ rộng - không gian yên tĩnh - tiện ích tuyệt vời . + Nhà được chủ xây dựng thiết kế cực kỳ sang , xịn , mịn . Diện tích rộng , 3PN , đầy đủ công năng + Ngõ nhà thông cực gần phố + Sổ đỏ chính chủ , sẵn sàng giao dịch',\n",
       " 'price': 3200000000.0,\n",
       " 'square': 30.0,\n",
       " 'address': {'full_address': 'Phường Trung Phụng , Quận Đống Đa , Hà Nội',\n",
       "  'province': 'Hà Nội',\n",
       "  'district': 'Đống Đa',\n",
       "  'ward': 'Trung Phụng'},\n",
       " 'estate_type': 'Nhà riêng',\n",
       " 'post_date': '2023/01/02',\n",
       " 'post_id': '508760',\n",
       " 'contact_info': {'name': 'Nguyễn Đức Anh', 'phone': ['0332618488']},\n",
       " 'extra_infos': {'Số phòng ngủ :': '3', 'Số toilet :': '3', 'Tầng :': '4'},\n",
       " 'link': 'https://bds.com.vn/ban-gap-nha-ngo-trung-phung-o-ngay-dt-30mx4t-mt-33-chi-32--ty-p508760.html'}"
      ]
     },
     "execution_count": 12,
     "metadata": {},
     "output_type": "execute_result"
    }
   ],
   "source": [
    "data_nharieng[0]"
   ]
  },
  {
   "cell_type": "code",
   "execution_count": 26,
   "metadata": {},
   "outputs": [],
   "source": [
    "filtered_data = [item for item in data_nharieng if \"Đầy đủ Nội thất đầy đủ\" in item.get(\"extra_infos\", \"\")]\n"
   ]
  },
  {
   "cell_type": "code",
   "execution_count": 27,
   "metadata": {},
   "outputs": [
    {
     "data": {
      "text/plain": [
       "{'Số phòng ngủ :': '3', 'Số toilet :': '3', 'Tầng :': '4'}"
      ]
     },
     "execution_count": 27,
     "metadata": {},
     "output_type": "execute_result"
    }
   ],
   "source": [
    "data_nharieng[0].get(\"extra_infos\", \"\")"
   ]
  },
  {
   "cell_type": "code",
   "execution_count": 28,
   "metadata": {},
   "outputs": [
    {
     "data": {
      "text/plain": [
       "1"
      ]
     },
     "execution_count": 28,
     "metadata": {},
     "output_type": "execute_result"
    }
   ],
   "source": [
    "len(filtered_data)"
   ]
  },
  {
   "cell_type": "code",
   "execution_count": 56,
   "metadata": {},
   "outputs": [],
   "source": [
    "filtered_data = []"
   ]
  },
  {
   "cell_type": "code",
   "execution_count": 57,
   "metadata": {},
   "outputs": [],
   "source": [
    "for i in range(len(data_nharieng)):\n",
    "    flg = 0\n",
    "    for k in data_nharieng[i].get(\"extra_infos\", \"\"):\n",
    "        if \"Nội thất\" in k or \"nội thất\" in k:\n",
    "            filtered_data.append(i)\n",
    "            flg = 1\n",
    "            break"
   ]
  },
  {
   "cell_type": "code",
   "execution_count": 58,
   "metadata": {},
   "outputs": [
    {
     "data": {
      "text/plain": [
       "[19620, 21772, 21795, 22777, 23489, 23940, 24078, 24595, 27103, 28763, 29729]"
      ]
     },
     "execution_count": 58,
     "metadata": {},
     "output_type": "execute_result"
    }
   ],
   "source": [
    "filtered_data"
   ]
  },
  {
   "cell_type": "code",
   "execution_count": 59,
   "metadata": {},
   "outputs": [],
   "source": [
    "filtered_list = [val for idx, val in enumerate(data_nharieng) if idx not in filtered_data]"
   ]
  },
  {
   "cell_type": "code",
   "execution_count": 60,
   "metadata": {},
   "outputs": [
    {
     "data": {
      "text/plain": [
       "32188"
      ]
     },
     "execution_count": 60,
     "metadata": {},
     "output_type": "execute_result"
    }
   ],
   "source": [
    "len(filtered_list)"
   ]
  },
  {
   "cell_type": "code",
   "execution_count": 62,
   "metadata": {},
   "outputs": [
    {
     "data": {
      "text/plain": [
       "32199"
      ]
     },
     "execution_count": 62,
     "metadata": {},
     "output_type": "execute_result"
    }
   ],
   "source": [
    "len(data_nharieng)"
   ]
  },
  {
   "cell_type": "code",
   "execution_count": 63,
   "metadata": {},
   "outputs": [],
   "source": [
    "import json\n",
    "\n",
    "with open(\"nharieng_batch.jsonl\", \"w\", encoding=\"utf-8\") as f:\n",
    "    for record in filtered_list:\n",
    "        f.write(json.dumps(record, ensure_ascii=False) + \"\\n\")  # Ghi từng dòng JSONL\n"
   ]
  },
  {
   "cell_type": "code",
   "execution_count": null,
   "metadata": {},
   "outputs": [],
   "source": []
  }
 ],
 "metadata": {
  "kernelspec": {
   "display_name": "cloud",
   "language": "python",
   "name": "python3"
  },
  "language_info": {
   "codemirror_mode": {
    "name": "ipython",
    "version": 3
   },
   "file_extension": ".py",
   "mimetype": "text/x-python",
   "name": "python",
   "nbconvert_exporter": "python",
   "pygments_lexer": "ipython3",
   "version": "3.11.11"
  }
 },
 "nbformat": 4,
 "nbformat_minor": 2
}
